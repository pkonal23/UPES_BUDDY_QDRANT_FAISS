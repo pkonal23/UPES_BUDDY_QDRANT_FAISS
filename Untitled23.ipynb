{
  "cells": [
    {
      "cell_type": "markdown",
      "metadata": {
        "id": "X4atJ4t6Z0bX"
      },
      "source": [
        "## Langchain Pinecone OpenAI"
      ]
    },
    {
      "cell_type": "code",
      "execution_count": null,
      "metadata": {
        "colab": {
          "base_uri": "https://localhost:8080/"
        },
        "id": "UdnLETtgZquH",
        "outputId": "38fd1ee9-84fa-4a57-8277-29b3f8b4e425"
      },
      "outputs": [],
      "source": [
        "!python3 -m pip install langchain\n",
        "!python3 -m pip install unstructured"
      ]
    },
    {
      "cell_type": "code",
      "execution_count": null,
      "metadata": {
        "colab": {
          "base_uri": "https://localhost:8080/"
        },
        "id": "zytt6k7Yaceq",
        "outputId": "afd8a56a-5864-468a-b13c-cb256aacec2f"
      },
      "outputs": [],
      "source": [
        "!python3 -m pip install langchain_pinecone"
      ]
    },
    {
      "cell_type": "code",
      "execution_count": 3,
      "metadata": {
        "id": "ImtIEkMtaPEd"
      },
      "outputs": [
        {
          "name": "stderr",
          "output_type": "stream",
          "text": [
            "/Users/konalsmac/Library/Python/3.9/lib/python/site-packages/urllib3/__init__.py:35: NotOpenSSLWarning: urllib3 v2 only supports OpenSSL 1.1.1+, currently the 'ssl' module is compiled with 'LibreSSL 2.8.3'. See: https://github.com/urllib3/urllib3/issues/3020\n",
            "  warnings.warn(\n",
            "/Users/konalsmac/Library/Python/3.9/lib/python/site-packages/pinecone/data/index.py:1: TqdmWarning: IProgress not found. Please update jupyter and ipywidgets. See https://ipywidgets.readthedocs.io/en/stable/user_install.html\n",
            "  from tqdm.autonotebook import tqdm\n"
          ]
        }
      ],
      "source": [
        "from langchain_pinecone import PineconeVectorStore"
      ]
    },
    {
      "cell_type": "code",
      "execution_count": null,
      "metadata": {
        "colab": {
          "base_uri": "https://localhost:8080/"
        },
        "id": "UJ-uUHcRbOJu",
        "outputId": "5ecf789d-54e9-47e4-8ac8-f128e914030d"
      },
      "outputs": [],
      "source": [
        "!python3 -m pip install langchain_openai"
      ]
    },
    {
      "cell_type": "code",
      "execution_count": 5,
      "metadata": {
        "id": "QRTOstlOa-A-"
      },
      "outputs": [],
      "source": [
        "from langchain_openai import OpenAIEmbeddings"
      ]
    },
    {
      "cell_type": "code",
      "execution_count": null,
      "metadata": {
        "colab": {
          "base_uri": "https://localhost:8080/"
        },
        "id": "eScQzip1bRfg",
        "outputId": "b4cffb76-5a3f-4f5d-c293-f2132b31a20b"
      },
      "outputs": [],
      "source": [
        "!python3 -m pip install langchain_community"
      ]
    },
    {
      "cell_type": "code",
      "execution_count": 7,
      "metadata": {
        "id": "tilkx-Tbbc6e"
      },
      "outputs": [],
      "source": [
        "from langchain_community.document_loaders import DirectoryLoader"
      ]
    },
    {
      "cell_type": "code",
      "execution_count": 8,
      "metadata": {
        "id": "xz2PT9OhblrB"
      },
      "outputs": [],
      "source": [
        "from langchain_text_splitters import RecursiveCharacterTextSplitter"
      ]
    },
    {
      "cell_type": "code",
      "execution_count": 9,
      "metadata": {
        "id": "tzmjs4Rqbral"
      },
      "outputs": [],
      "source": [
        "import os\n",
        "import glob"
      ]
    },
    {
      "cell_type": "code",
      "execution_count": 10,
      "metadata": {
        "id": "oXibuVSEb1dV"
      },
      "outputs": [],
      "source": [
        "loader = DirectoryLoader('/Users/konalsmac/upesbuddy/UPESBuddy_Chatbot/web_crawler/ParsedPages', glob=\"**/*.txt\")"
      ]
    },
    {
      "cell_type": "code",
      "execution_count": 11,
      "metadata": {},
      "outputs": [
        {
          "name": "stdout",
          "output_type": "stream",
          "text": [
            "Defaulting to user installation because normal site-packages is not writeable\n",
            "Requirement already satisfied: libmagic in /Users/konalsmac/Library/Python/3.9/lib/python/site-packages (1.0)\n",
            "\u001b[33mWARNING: You are using pip version 21.2.4; however, version 25.0.1 is available.\n",
            "You should consider upgrading via the '/Library/Developer/CommandLineTools/usr/bin/python3 -m pip install --upgrade pip' command.\u001b[0m\n"
          ]
        }
      ],
      "source": [
        "!python3 -m pip install libmagic"
      ]
    },
    {
      "cell_type": "code",
      "execution_count": null,
      "metadata": {
        "id": "7mwejvH2dMnH"
      },
      "outputs": [],
      "source": [
        "docs = loader.load()"
      ]
    },
    {
      "cell_type": "code",
      "execution_count": 15,
      "metadata": {
        "colab": {
          "base_uri": "https://localhost:8080/"
        },
        "id": "7ZyWAdFPdPaF",
        "outputId": "db2e0806-f0b4-4a20-843c-60ed26b27ac4"
      },
      "outputs": [
        {
          "data": {
            "text/plain": [
              "Document(metadata={'source': '/Users/konalsmac/upesbuddy/UPESBuddy_Chatbot/web_crawler/ParsedPages/www_upes_ac_in_faculty_school_of_law_ruby_yadav.txt'}, page_content='Students Alumni Parents Contact Us About Us Rankings Blog Applicant Login Academics Back Academics School of Advanced Engineering B.Sc. B.Tech. M.Sc. M.Tech. PhD School of Business B.Com. (Hons) BBA Integrated - B.Com. (Hons) - MBA Integrated - BBA - MBA MBA PhD School of Computer Science B.Sc. B.Tech. CSE BCA M.Tech. CSE MCA PhD School of Design B.Des. M.Des. PhD School of Health Sciences & Technology B.Pharm. B.Sc. B.Tech. M.Sc. PhD School of Law BA LL.B. BBA LL.B. LL.B. - 3 Yrs LL.M. PhD School of Liberal Studies & Media BA (H) B.Sc. (H) BA MA PhD School for Life UPES Online Admissions Student Outcomes Placements Campus Life Research Apply Now\\n\\nStudents\\n\\nAlumni\\n\\nParents\\n\\nContact Us\\n\\nAbout Us\\n\\nRankings\\n\\nBlog\\n\\nApplicant Login\\n\\nStudents\\n\\nAlumni\\n\\nParents\\n\\nContact Us\\n\\nAbout Us\\n\\nRankings\\n\\nBlog\\n\\nApplicant Login\\n\\nAcademics Back Academics School of Advanced Engineering B.Sc. B.Tech. M.Sc. M.Tech. PhD School of Business B.Com. (Hons) BBA Integrated - B.Com. (Hons) - MBA Integrated - BBA - MBA MBA PhD School of Computer Science B.Sc. B.Tech. CSE BCA M.Tech. CSE MCA PhD School of Design B.Des. M.Des. PhD School of Health Sciences & Technology B.Pharm. B.Sc. B.Tech. M.Sc. PhD School of Law BA LL.B. BBA LL.B. LL.B. - 3 Yrs LL.M. PhD School of Liberal Studies & Media BA (H) B.Sc. (H) BA MA PhD School for Life UPES Online Admissions Student Outcomes Placements Campus Life Research Apply Now\\n\\nAcademics Back Academics School of Advanced Engineering B.Sc. B.Tech. M.Sc. M.Tech. PhD School of Business B.Com. (Hons) BBA Integrated - B.Com. (Hons) - MBA Integrated - BBA - MBA MBA PhD School of Computer Science B.Sc. B.Tech. CSE BCA M.Tech. CSE MCA PhD School of Design B.Des. M.Des. PhD School of Health Sciences & Technology B.Pharm. B.Sc. B.Tech. M.Sc. PhD School of Law BA LL.B. BBA LL.B. LL.B. - 3 Yrs LL.M. PhD School of Liberal Studies & Media BA (H) B.Sc. (H) BA MA PhD School for Life UPES Online Admissions Student Outcomes Placements Campus Life Research Apply Now\\n\\nAcademics Back Academics School of Advanced Engineering B.Sc. B.Tech. M.Sc. M.Tech. PhD School of Business B.Com. (Hons) BBA Integrated - B.Com. (Hons) - MBA Integrated - BBA - MBA MBA PhD School of Computer Science B.Sc. B.Tech. CSE BCA M.Tech. CSE MCA PhD School of Design B.Des. M.Des. PhD School of Health Sciences & Technology B.Pharm. B.Sc. B.Tech. M.Sc. PhD School of Law BA LL.B. BBA LL.B. LL.B. - 3 Yrs LL.M. PhD School of Liberal Studies & Media BA (H) B.Sc. (H) BA MA PhD School for Life UPES Online\\n\\nBack Academics School of Advanced Engineering B.Sc. B.Tech. M.Sc. M.Tech. PhD School of Business B.Com. (Hons) BBA Integrated - B.Com. (Hons) - MBA Integrated - BBA - MBA MBA PhD School of Computer Science B.Sc. B.Tech. CSE BCA M.Tech. CSE MCA PhD School of Design B.Des. M.Des. PhD School of Health Sciences & Technology B.Pharm. B.Sc. B.Tech. M.Sc. PhD School of Law BA LL.B. BBA LL.B. LL.B. - 3 Yrs LL.M. PhD School of Liberal Studies & Media BA (H) B.Sc. (H) BA MA PhD School for Life UPES Online\\n\\nBack Academics School of Advanced Engineering B.Sc. B.Tech. M.Sc. M.Tech. PhD School of Business B.Com. (Hons) BBA Integrated - B.Com. (Hons) - MBA Integrated - BBA - MBA MBA PhD School of Computer Science B.Sc. B.Tech. CSE BCA M.Tech. CSE MCA PhD School of Design B.Des. M.Des. PhD School of Health Sciences & Technology B.Pharm. B.Sc. B.Tech. M.Sc. PhD School of Law BA LL.B. BBA LL.B. LL.B. - 3 Yrs LL.M. PhD School of Liberal Studies & Media BA (H) B.Sc. (H) BA MA PhD School for Life UPES Online\\n\\nBack Academics School of Advanced Engineering B.Sc. B.Tech. M.Sc. M.Tech. PhD School of Business B.Com. (Hons) BBA Integrated - B.Com. (Hons) - MBA Integrated - BBA - MBA MBA PhD School of Computer Science B.Sc. B.Tech. CSE BCA M.Tech. CSE MCA PhD School of Design B.Des. M.Des. PhD School of Health Sciences & Technology B.Pharm. B.Sc. B.Tech. M.Sc. PhD School of Law BA LL.B. BBA LL.B. LL.B. - 3 Yrs LL.M. PhD School of Liberal Studies & Media BA (H) B.Sc. (H) BA MA PhD School for Life UPES Online\\n\\nBack Academics School of Advanced Engineering B.Sc. B.Tech. M.Sc. M.Tech. PhD School of Business B.Com. (Hons) BBA Integrated - B.Com. (Hons) - MBA Integrated - BBA - MBA MBA PhD School of Computer Science B.Sc. B.Tech. CSE BCA M.Tech. CSE MCA PhD School of Design B.Des. M.Des. PhD School of Health Sciences & Technology B.Pharm. B.Sc. B.Tech. M.Sc. PhD School of Law BA LL.B. BBA LL.B. LL.B. - 3 Yrs LL.M. PhD School of Liberal Studies & Media BA (H) B.Sc. (H) BA MA PhD School for Life UPES Online\\n\\nAcademics\\n\\nSchool of Advanced Engineering\\n\\nB.Sc.\\n\\nB.Tech.\\n\\nM.Sc.\\n\\nM.Tech.\\n\\nPhD\\n\\nB.Sc.\\n\\nB.Tech.\\n\\nM.Sc.\\n\\nM.Tech.\\n\\nPhD\\n\\nSchool of Business\\n\\nB.Com. (Hons)\\n\\nBBA\\n\\nIntegrated\\n\\nB.Com. (Hons)\\n\\nMBA\\n\\nIntegrated\\n\\nBBA\\n\\nMBA\\n\\nMBA\\n\\nPhD\\n\\nB.Com. (Hons)\\n\\nBBA\\n\\nIntegrated\\n\\nB.Com. (Hons)\\n\\nMBA\\n\\nIntegrated\\n\\nBBA\\n\\nMBA\\n\\nMBA\\n\\nPhD\\n\\nSchool of Computer Science\\n\\nB.Sc.\\n\\nB.Tech. CSE\\n\\nBCA\\n\\nM.Tech. CSE\\n\\nMCA\\n\\nPhD\\n\\nB.Sc.\\n\\nB.Tech. CSE\\n\\nBCA\\n\\nM.Tech. CSE\\n\\nMCA\\n\\nPhD\\n\\nSchool of Design\\n\\nB.Des.\\n\\nM.Des.\\n\\nPhD\\n\\nB.Des.\\n\\nM.Des.\\n\\nPhD\\n\\nSchool of Health Sciences & Technology B.Pharm. B.Sc. B.Tech. M.Sc. PhD\\n\\nB.Pharm.\\n\\nB.Sc.\\n\\nB.Tech.\\n\\nM.Sc.\\n\\nPhD\\n\\nSchool of Law\\n\\nBA LL.B.\\n\\nBBA LL.B.\\n\\nLL.B.\\n\\n3 Yrs\\n\\nLL.M.\\n\\nPhD\\n\\nBA LL.B.\\n\\nBBA LL.B.\\n\\nLL.B.\\n\\n3 Yrs\\n\\nLL.M.\\n\\nPhD\\n\\nSchool of Liberal Studies & Media BA (H) B.Sc. (H) BA MA PhD\\n\\nBA (H)\\n\\nB.Sc. (H)\\n\\nBA\\n\\nMA\\n\\nPhD\\n\\nSchool for Life\\n\\nUPES Online\\n\\nAdmissions\\n\\nStudent Outcomes\\n\\nPlacements\\n\\nCampus Life\\n\\nResearch\\n\\nApply Now\\n\\nMinimum 3 characters require\\n\\nPopular Searches\\n\\nMinimum 3 characters require\\n\\nPopular Searches\\n\\nMinimum 3 characters require\\n\\nPopular Searches\\n\\nPopular Searches\\n\\nPopular Searches\\n\\nPopular Searches\\n\\nPopular Searches\\n\\nHome\\n\\nFaculty\\n\\nSchool of Law\\n\\nRuby Yadav\\n\\nHome\\n\\nFaculty\\n\\nSchool of Law\\n\\nRuby Yadav\\n\\nRuby Yadav\\n\\nAssistant Professor\\n\\nRuby Yadav\\n\\nAssistant Professor\\n\\nRuby Yadav\\n\\nAssistant Professor\\n\\nRuby Yadav\\n\\nAssistant Professor\\n\\nProfile Summary Ms. Ruby Yadav is an accomplished Assistant Professor of Law with an expertise in media law and constitutional law. With a comprehensive academic background and research experience, she brings a wealth of knowledge and expertise to her teaching and scholarly pursuits. In the realm of media law, she possess an in-depth understanding of the legal aspects surrounding communication, media, and information dissemination. She has a keen interest in analysing the rights and responsibilities of media organizations, exploring issues such as freedom of the press, privacy concerns, intellectual property, and the regulation of various media platforms. She is particularly skilled at navigating the complex legal landscape where media intersects with constitutional rights, intellectual property, and privacy Work Experience Before Joining UPES in January 2019, Ms. Ruby has worked with Law College Dehradun (Uttaranchal University) Research Interests She has a diverse range of research interests spanning the fields of constitutional law, economics, media, and society. Her multidisciplinary academic background allows her to explore the intricate intersections and dynamics that exist among these disciplines. She intends to investigate various legal frameworks, analyzing their implications and societal impact. She delves into areas such as constitutional law, media law, and legal theory, seeking to understand how these legal structures shape and influence economic and social systems and vice versa. Teaching Philosophy She believes in the power of active student engagement, encouraging students to take an active role in their own learning. She prioritize interactive discussions, case studies, and practical exercises to promote critical thinking, problem-solving skills, and the application of legal principles in real-world scenarios. By incorporating experiential learning opportunities, she enable students to develop a deep understanding of legal concepts and their practical implications. In her teaching, she embraces a student-centred approach. She recognize the diverse backgrounds, perspectives, and learning styles of her students and strive to create an inclusive classroom environment that respects and values these differences. She encourages open dialogue, foster an atmosphere of mutual respect, and promote a culture of intellectual curiosity. Courses Taught She has taught an array of courses encompassing constitutional law, environmental law, family law, sociology, taxation law, and international trade law. With her diverse expertise, she has successfully designed and delivered engaging curriculum that fosters a comprehensive understanding of these subjects. Awards and Grants She is a recipient of Vice Chancellor’s Gold Medal for LL.M. (2017-18) ( Constitutional and Administrative Law) from Himachal Pradesh National Law University (HPNLU), Shimla. Scholarly Activities She has authored two books that delve into specific aspects of media law. Her books addresses various aspects of media law, including freedom of speech, media regulation, privacy concerns, and the legal implications of emerging technologies. Through her publications, she provides insightful analysis and contributes to the ongoing scholarly discourse on media law. In addition to the books, she has published in esteemed academic journals and law reviews. Contact ryadav@ddn.upes.ac.in\\n\\nProfile Summary Ms. Ruby Yadav is an accomplished Assistant Professor of Law with an expertise in media law and constitutional law. With a comprehensive academic background and research experience, she brings a wealth of knowledge and expertise to her teaching and scholarly pursuits. In the realm of media law, she possess an in-depth understanding of the legal aspects surrounding communication, media, and information dissemination. She has a keen interest in analysing the rights and responsibilities of media organizations, exploring issues such as freedom of the press, privacy concerns, intellectual property, and the regulation of various media platforms. She is particularly skilled at navigating the complex legal landscape where media intersects with constitutional rights, intellectual property, and privacy Work Experience Before Joining UPES in January 2019, Ms. Ruby has worked with Law College Dehradun (Uttaranchal University) Research Interests She has a diverse range of research interests spanning the fields of constitutional law, economics, media, and society. Her multidisciplinary academic background allows her to explore the intricate intersections and dynamics that exist among these disciplines. She intends to investigate various legal frameworks, analyzing their implications and societal impact. She delves into areas such as constitutional law, media law, and legal theory, seeking to understand how these legal structures shape and influence economic and social systems and vice versa. Teaching Philosophy She believes in the power of active student engagement, encouraging students to take an active role in their own learning. She prioritize interactive discussions, case studies, and practical exercises to promote critical thinking, problem-solving skills, and the application of legal principles in real-world scenarios. By incorporating experiential learning opportunities, she enable students to develop a deep understanding of legal concepts and their practical implications. In her teaching, she embraces a student-centred approach. She recognize the diverse backgrounds, perspectives, and learning styles of her students and strive to create an inclusive classroom environment that respects and values these differences. She encourages open dialogue, foster an atmosphere of mutual respect, and promote a culture of intellectual curiosity. Courses Taught She has taught an array of courses encompassing constitutional law, environmental law, family law, sociology, taxation law, and international trade law. With her diverse expertise, she has successfully designed and delivered engaging curriculum that fosters a comprehensive understanding of these subjects. Awards and Grants She is a recipient of Vice Chancellor’s Gold Medal for LL.M. (2017-18) ( Constitutional and Administrative Law) from Himachal Pradesh National Law University (HPNLU), Shimla. Scholarly Activities She has authored two books that delve into specific aspects of media law. Her books addresses various aspects of media law, including freedom of speech, media regulation, privacy concerns, and the legal implications of emerging technologies. Through her publications, she provides insightful analysis and contributes to the ongoing scholarly discourse on media law. In addition to the books, she has published in esteemed academic journals and law reviews. Contact ryadav@ddn.upes.ac.in\\n\\nProfile Summary Ms. Ruby Yadav is an accomplished Assistant Professor of Law with an expertise in media law and constitutional law. With a comprehensive academic background and research experience, she brings a wealth of knowledge and expertise to her teaching and scholarly pursuits. In the realm of media law, she possess an in-depth understanding of the legal aspects surrounding communication, media, and information dissemination. She has a keen interest in analysing the rights and responsibilities of media organizations, exploring issues such as freedom of the press, privacy concerns, intellectual property, and the regulation of various media platforms. She is particularly skilled at navigating the complex legal landscape where media intersects with constitutional rights, intellectual property, and privacy Work Experience Before Joining UPES in January 2019, Ms. Ruby has worked with Law College Dehradun (Uttaranchal University) Research Interests She has a diverse range of research interests spanning the fields of constitutional law, economics, media, and society. Her multidisciplinary academic background allows her to explore the intricate intersections and dynamics that exist among these disciplines. She intends to investigate various legal frameworks, analyzing their implications and societal impact. She delves into areas such as constitutional law, media law, and legal theory, seeking to understand how these legal structures shape and influence economic and social systems and vice versa. Teaching Philosophy She believes in the power of active student engagement, encouraging students to take an active role in their own learning. She prioritize interactive discussions, case studies, and practical exercises to promote critical thinking, problem-solving skills, and the application of legal principles in real-world scenarios. By incorporating experiential learning opportunities, she enable students to develop a deep understanding of legal concepts and their practical implications. In her teaching, she embraces a student-centred approach. She recognize the diverse backgrounds, perspectives, and learning styles of her students and strive to create an inclusive classroom environment that respects and values these differences. She encourages open dialogue, foster an atmosphere of mutual respect, and promote a culture of intellectual curiosity. Courses Taught She has taught an array of courses encompassing constitutional law, environmental law, family law, sociology, taxation law, and international trade law. With her diverse expertise, she has successfully designed and delivered engaging curriculum that fosters a comprehensive understanding of these subjects. Awards and Grants She is a recipient of Vice Chancellor’s Gold Medal for LL.M. (2017-18) ( Constitutional and Administrative Law) from Himachal Pradesh National Law University (HPNLU), Shimla. Scholarly Activities She has authored two books that delve into specific aspects of media law. Her books addresses various aspects of media law, including freedom of speech, media regulation, privacy concerns, and the legal implications of emerging technologies. Through her publications, she provides insightful analysis and contributes to the ongoing scholarly discourse on media law. In addition to the books, she has published in esteemed academic journals and law reviews. Contact ryadav@ddn.upes.ac.in\\n\\nProfile Summary Ms. Ruby Yadav is an accomplished Assistant Professor of Law with an expertise in media law and constitutional law. With a comprehensive academic background and research experience, she brings a wealth of knowledge and expertise to her teaching and scholarly pursuits. In the realm of media law, she possess an in-depth understanding of the legal aspects surrounding communication, media, and information dissemination. She has a keen interest in analysing the rights and responsibilities of media organizations, exploring issues such as freedom of the press, privacy concerns, intellectual property, and the regulation of various media platforms. She is particularly skilled at navigating the complex legal landscape where media intersects with constitutional rights, intellectual property, and privacy Work Experience Before Joining UPES in January 2019, Ms. Ruby has worked with Law College Dehradun (Uttaranchal University) Research Interests She has a diverse range of research interests spanning the fields of constitutional law, economics, media, and society. Her multidisciplinary academic background allows her to explore the intricate intersections and dynamics that exist among these disciplines. She intends to investigate various legal frameworks, analyzing their implications and societal impact. She delves into areas such as constitutional law, media law, and legal theory, seeking to understand how these legal structures shape and influence economic and social systems and vice versa. Teaching Philosophy She believes in the power of active student engagement, encouraging students to take an active role in their own learning. She prioritize interactive discussions, case studies, and practical exercises to promote critical thinking, problem-solving skills, and the application of legal principles in real-world scenarios. By incorporating experiential learning opportunities, she enable students to develop a deep understanding of legal concepts and their practical implications. In her teaching, she embraces a student-centred approach. She recognize the diverse backgrounds, perspectives, and learning styles of her students and strive to create an inclusive classroom environment that respects and values these differences. She encourages open dialogue, foster an atmosphere of mutual respect, and promote a culture of intellectual curiosity. Courses Taught She has taught an array of courses encompassing constitutional law, environmental law, family law, sociology, taxation law, and international trade law. With her diverse expertise, she has successfully designed and delivered engaging curriculum that fosters a comprehensive understanding of these subjects. Awards and Grants She is a recipient of Vice Chancellor’s Gold Medal for LL.M. (2017-18) ( Constitutional and Administrative Law) from Himachal Pradesh National Law University (HPNLU), Shimla. Scholarly Activities She has authored two books that delve into specific aspects of media law. Her books addresses various aspects of media law, including freedom of speech, media regulation, privacy concerns, and the legal implications of emerging technologies. Through her publications, she provides insightful analysis and contributes to the ongoing scholarly discourse on media law. In addition to the books, she has published in esteemed academic journals and law reviews. Contact ryadav@ddn.upes.ac.in\\n\\nProfile Summary Ms. Ruby Yadav is an accomplished Assistant Professor of Law with an expertise in media law and constitutional law. With a comprehensive academic background and research experience, she brings a wealth of knowledge and expertise to her teaching and scholarly pursuits. In the realm of media law, she possess an in-depth understanding of the legal aspects surrounding communication, media, and information dissemination. She has a keen interest in analysing the rights and responsibilities of media organizations, exploring issues such as freedom of the press, privacy concerns, intellectual property, and the regulation of various media platforms. She is particularly skilled at navigating the complex legal landscape where media intersects with constitutional rights, intellectual property, and privacy Work Experience Before Joining UPES in January 2019, Ms. Ruby has worked with Law College Dehradun (Uttaranchal University) Research Interests She has a diverse range of research interests spanning the fields of constitutional law, economics, media, and society. Her multidisciplinary academic background allows her to explore the intricate intersections and dynamics that exist among these disciplines. She intends to investigate various legal frameworks, analyzing their implications and societal impact. She delves into areas such as constitutional law, media law, and legal theory, seeking to understand how these legal structures shape and influence economic and social systems and vice versa. Teaching Philosophy She believes in the power of active student engagement, encouraging students to take an active role in their own learning. She prioritize interactive discussions, case studies, and practical exercises to promote critical thinking, problem-solving skills, and the application of legal principles in real-world scenarios. By incorporating experiential learning opportunities, she enable students to develop a deep understanding of legal concepts and their practical implications. In her teaching, she embraces a student-centred approach. She recognize the diverse backgrounds, perspectives, and learning styles of her students and strive to create an inclusive classroom environment that respects and values these differences. She encourages open dialogue, foster an atmosphere of mutual respect, and promote a culture of intellectual curiosity. Courses Taught She has taught an array of courses encompassing constitutional law, environmental law, family law, sociology, taxation law, and international trade law. With her diverse expertise, she has successfully designed and delivered engaging curriculum that fosters a comprehensive understanding of these subjects. Awards and Grants She is a recipient of Vice Chancellor’s Gold Medal for LL.M. (2017-18) ( Constitutional and Administrative Law) from Himachal Pradesh National Law University (HPNLU), Shimla. Scholarly Activities She has authored two books that delve into specific aspects of media law. Her books addresses various aspects of media law, including freedom of speech, media regulation, privacy concerns, and the legal implications of emerging technologies. Through her publications, she provides insightful analysis and contributes to the ongoing scholarly discourse on media law. In addition to the books, she has published in esteemed academic journals and law reviews. Contact ryadav@ddn.upes.ac.in\\n\\nProfile Summary Ms. Ruby Yadav is an accomplished Assistant Professor of Law with an expertise in media law and constitutional law. With a comprehensive academic background and research experience, she brings a wealth of knowledge and expertise to her teaching and scholarly pursuits. In the realm of media law, she possess an in-depth understanding of the legal aspects surrounding communication, media, and information dissemination. She has a keen interest in analysing the rights and responsibilities of media organizations, exploring issues such as freedom of the press, privacy concerns, intellectual property, and the regulation of various media platforms. She is particularly skilled at navigating the complex legal landscape where media intersects with constitutional rights, intellectual property, and privacy Work Experience Before Joining UPES in January 2019, Ms. Ruby has worked with Law College Dehradun (Uttaranchal University) Research Interests She has a diverse range of research interests spanning the fields of constitutional law, economics, media, and society. Her multidisciplinary academic background allows her to explore the intricate intersections and dynamics that exist among these disciplines. She intends to investigate various legal frameworks, analyzing their implications and societal impact. She delves into areas such as constitutional law, media law, and legal theory, seeking to understand how these legal structures shape and influence economic and social systems and vice versa. Teaching Philosophy She believes in the power of active student engagement, encouraging students to take an active role in their own learning. She prioritize interactive discussions, case studies, and practical exercises to promote critical thinking, problem-solving skills, and the application of legal principles in real-world scenarios. By incorporating experiential learning opportunities, she enable students to develop a deep understanding of legal concepts and their practical implications. In her teaching, she embraces a student-centred approach. She recognize the diverse backgrounds, perspectives, and learning styles of her students and strive to create an inclusive classroom environment that respects and values these differences. She encourages open dialogue, foster an atmosphere of mutual respect, and promote a culture of intellectual curiosity. Courses Taught She has taught an array of courses encompassing constitutional law, environmental law, family law, sociology, taxation law, and international trade law. With her diverse expertise, she has successfully designed and delivered engaging curriculum that fosters a comprehensive understanding of these subjects. Awards and Grants She is a recipient of Vice Chancellor’s Gold Medal for LL.M. (2017-18) ( Constitutional and Administrative Law) from Himachal Pradesh National Law University (HPNLU), Shimla. Scholarly Activities She has authored two books that delve into specific aspects of media law. Her books addresses various aspects of media law, including freedom of speech, media regulation, privacy concerns, and the legal implications of emerging technologies. Through her publications, she provides insightful analysis and contributes to the ongoing scholarly discourse on media law. In addition to the books, she has published in esteemed academic journals and law reviews. Contact ryadav@ddn.upes.ac.in\\n\\nProfile Summary Ms. Ruby Yadav is an accomplished Assistant Professor of Law with an expertise in media law and constitutional law. With a comprehensive academic background and research experience, she brings a wealth of knowledge and expertise to her teaching and scholarly pursuits. In the realm of media law, she possess an in-depth understanding of the legal aspects surrounding communication, media, and information dissemination. She has a keen interest in analysing the rights and responsibilities of media organizations, exploring issues such as freedom of the press, privacy concerns, intellectual property, and the regulation of various media platforms. She is particularly skilled at navigating the complex legal landscape where media intersects with constitutional rights, intellectual property, and privacy Work Experience Before Joining UPES in January 2019, Ms. Ruby has worked with Law College Dehradun (Uttaranchal University) Research Interests She has a diverse range of research interests spanning the fields of constitutional law, economics, media, and society. Her multidisciplinary academic background allows her to explore the intricate intersections and dynamics that exist among these disciplines. She intends to investigate various legal frameworks, analyzing their implications and societal impact. She delves into areas such as constitutional law, media law, and legal theory, seeking to understand how these legal structures shape and influence economic and social systems and vice versa. Teaching Philosophy She believes in the power of active student engagement, encouraging students to take an active role in their own learning. She prioritize interactive discussions, case studies, and practical exercises to promote critical thinking, problem-solving skills, and the application of legal principles in real-world scenarios. By incorporating experiential learning opportunities, she enable students to develop a deep understanding of legal concepts and their practical implications. In her teaching, she embraces a student-centred approach. She recognize the diverse backgrounds, perspectives, and learning styles of her students and strive to create an inclusive classroom environment that respects and values these differences. She encourages open dialogue, foster an atmosphere of mutual respect, and promote a culture of intellectual curiosity. Courses Taught She has taught an array of courses encompassing constitutional law, environmental law, family law, sociology, taxation law, and international trade law. With her diverse expertise, she has successfully designed and delivered engaging curriculum that fosters a comprehensive understanding of these subjects. Awards and Grants She is a recipient of Vice Chancellor’s Gold Medal for LL.M. (2017-18) ( Constitutional and Administrative Law) from Himachal Pradesh National Law University (HPNLU), Shimla. Scholarly Activities She has authored two books that delve into specific aspects of media law. Her books addresses various aspects of media law, including freedom of speech, media regulation, privacy concerns, and the legal implications of emerging technologies. Through her publications, she provides insightful analysis and contributes to the ongoing scholarly discourse on media law. In addition to the books, she has published in esteemed academic journals and law reviews. Contact ryadav@ddn.upes.ac.in\\n\\nProfile Summary Ms. Ruby Yadav is an accomplished Assistant Professor of Law with an expertise in media law and constitutional law. With a comprehensive academic background and research experience, she brings a wealth of knowledge and expertise to her teaching and scholarly pursuits. In the realm of media law, she possess an in-depth understanding of the legal aspects surrounding communication, media, and information dissemination. She has a keen interest in analysing the rights and responsibilities of media organizations, exploring issues such as freedom of the press, privacy concerns, intellectual property, and the regulation of various media platforms. She is particularly skilled at navigating the complex legal landscape where media intersects with constitutional rights, intellectual property, and privacy\\n\\nProfile Summary\\n\\nProfile Summary\\n\\nMs. Ruby Yadav is an accomplished Assistant Professor of Law with an expertise in media law and constitutional law. With a comprehensive academic background and research experience, she brings a wealth of knowledge and expertise to her teaching and scholarly pursuits. In the realm of media law, she possess an in-depth understanding of the legal aspects surrounding communication, media, and information dissemination. She has a keen interest in analysing the rights and responsibilities of media organizations, exploring issues such as freedom of the press, privacy concerns, intellectual property, and the regulation of various media platforms. She is particularly skilled at navigating the complex legal landscape where media intersects with constitutional rights, intellectual property, and privacy\\n\\nMs. Ruby Yadav is an accomplished Assistant Professor of Law with an expertise in media law and constitutional law. With a comprehensive academic background and research experience, she brings a wealth of knowledge and expertise to her teaching and scholarly pursuits.\\n\\nIn the realm of media law, she possess an in-depth understanding of the legal aspects surrounding communication, media, and information dissemination. She has a keen interest in analysing the rights and responsibilities of media organizations, exploring issues such as freedom of the press, privacy concerns, intellectual property, and the regulation of various media platforms. She is particularly skilled at navigating the complex legal landscape where media intersects with constitutional rights, intellectual property, and privacy\\n\\nWork Experience Before Joining UPES in January 2019, Ms. Ruby has worked with Law College Dehradun (Uttaranchal University)\\n\\nWork Experience\\n\\nWork Experience\\n\\nBefore Joining UPES in January 2019, Ms. Ruby has worked with Law College Dehradun (Uttaranchal University)\\n\\nResearch Interests She has a diverse range of research interests spanning the fields of constitutional law, economics, media, and society. Her multidisciplinary academic background allows her to explore the intricate intersections and dynamics that exist among these disciplines. She intends to investigate various legal frameworks, analyzing their implications and societal impact. She delves into areas such as constitutional law, media law, and legal theory, seeking to understand how these legal structures shape and influence economic and social systems and vice versa.\\n\\nResearch Interests\\n\\nResearch Interests\\n\\nShe has a diverse range of research interests spanning the fields of constitutional law, economics, media, and society. Her multidisciplinary academic background allows her to explore the intricate intersections and dynamics that exist among these disciplines. She intends to investigate various legal frameworks, analyzing their implications and societal impact. She delves into areas such as constitutional law, media law, and legal theory, seeking to understand how these legal structures shape and influence economic and social systems and vice versa.\\n\\nShe has a diverse range of research interests spanning the fields of constitutional law, economics, media, and society. Her multidisciplinary academic background allows her to explore the intricate intersections and dynamics that exist among these disciplines.\\n\\nShe intends to investigate various legal frameworks, analyzing their implications and societal impact. She delves into areas such as constitutional law, media law, and legal theory, seeking to understand how these legal structures shape and influence economic and social systems and vice versa.\\n\\nTeaching Philosophy She believes in the power of active student engagement, encouraging students to take an active role in their own learning. She prioritize interactive discussions, case studies, and practical exercises to promote critical thinking, problem-solving skills, and the application of legal principles in real-world scenarios. By incorporating experiential learning opportunities, she enable students to develop a deep understanding of legal concepts and their practical implications. In her teaching, she embraces a student-centred approach. She recognize the diverse backgrounds, perspectives, and learning styles of her students and strive to create an inclusive classroom environment that respects and values these differences. She encourages open dialogue, foster an atmosphere of mutual respect, and promote a culture of intellectual curiosity.\\n\\nTeaching Philosophy\\n\\nTeaching Philosophy\\n\\nShe believes in the power of active student engagement, encouraging students to take an active role in their own learning. She prioritize interactive discussions, case studies, and practical exercises to promote critical thinking, problem-solving skills, and the application of legal principles in real-world scenarios. By incorporating experiential learning opportunities, she enable students to develop a deep understanding of legal concepts and their practical implications. In her teaching, she embraces a student-centred approach. She recognize the diverse backgrounds, perspectives, and learning styles of her students and strive to create an inclusive classroom environment that respects and values these differences. She encourages open dialogue, foster an atmosphere of mutual respect, and promote a culture of intellectual curiosity.\\n\\nShe believes in the power of active student engagement, encouraging students to take an active role in their own learning. She prioritize interactive discussions, case studies, and practical exercises to promote critical thinking, problem-solving skills, and the application of legal principles in real-world scenarios. By incorporating experiential learning opportunities, she enable students to develop a deep understanding of legal concepts and their practical implications.\\n\\nIn her teaching, she embraces a student-centred approach. She recognize the diverse backgrounds, perspectives, and learning styles of her students and strive to create an inclusive classroom environment that respects and values these differences. She encourages open dialogue, foster an atmosphere of mutual respect, and promote a culture of intellectual curiosity.\\n\\nCourses Taught She has taught an array of courses encompassing constitutional law, environmental law, family law, sociology, taxation law, and international trade law. With her diverse expertise, she has successfully designed and delivered engaging curriculum that fosters a comprehensive understanding of these subjects.\\n\\nCourses Taught\\n\\nCourses Taught\\n\\nShe has taught an array of courses encompassing constitutional law, environmental law, family law, sociology, taxation law, and international trade law. With her diverse expertise, she has successfully designed and delivered engaging curriculum that fosters a comprehensive understanding of these subjects.\\n\\nAwards and Grants She is a recipient of Vice Chancellor’s Gold Medal for LL.M. (2017-18) ( Constitutional and Administrative Law) from Himachal Pradesh National Law University (HPNLU), Shimla.\\n\\nAwards and Grants\\n\\nAwards and Grants\\n\\nShe is a recipient of Vice Chancellor’s Gold Medal for LL.M. (2017-18) ( Constitutional and Administrative Law) from Himachal Pradesh National Law University (HPNLU), Shimla.\\n\\nScholarly Activities She has authored two books that delve into specific aspects of media law. Her books addresses various aspects of media law, including freedom of speech, media regulation, privacy concerns, and the legal implications of emerging technologies. Through her publications, she provides insightful analysis and contributes to the ongoing scholarly discourse on media law. In addition to the books, she has published in esteemed academic journals and law reviews.\\n\\nScholarly Activities\\n\\nScholarly Activities\\n\\nShe has authored two books that delve into specific aspects of media law. Her books addresses various aspects of media law, including freedom of speech, media regulation, privacy concerns, and the legal implications of emerging technologies. Through her publications, she provides insightful analysis and contributes to the ongoing scholarly discourse on media law. In addition to the books, she has published in esteemed academic journals and law reviews.\\n\\nShe has authored two books that delve into specific aspects of media law. Her books addresses various aspects of media law, including freedom of speech, media regulation, privacy concerns, and the legal implications of emerging technologies. Through her publications, she provides insightful analysis and contributes to the ongoing scholarly discourse on media law.\\n\\nIn addition to the books, she has published in esteemed academic journals and law reviews.\\n\\nContact\\n\\nryadav@ddn.upes.ac.in\\n\\nContact\\n\\nContact\\n\\nryadav@ddn.upes.ac.in\\n\\nClose\\n\\nEligibility Criteria\\n\\nClose\\n\\nEligibility Criteria\\n\\nClose\\n\\nEligibility Criteria\\n\\nEligibility Criteria\\n\\nEligibility Criteria\\n\\nApply Now\\n\\nSpeak to a Counsellor\\n\\nHelpline\\n\\nDownload Brochure\\n\\nChat with student buddy\\n\\nChat with us\\n\\nSpeak to a Counsellor\\n\\nHelpline\\n\\nDownload Brochure\\n\\nChat with student buddy\\n\\nChat with us\\n\\nSpeak to a Counsellor\\n\\nHelpline\\n\\nDownload Brochure\\n\\nChat with student buddy\\n\\nChat with us\\n\\nAdmissions B.Tech. MBA B.Des. M.Tech. LL.B. M.Des. B.Pharm. MA BBA M.Sc. BCA LL.M. B.Sc. MCA B.Com. PhD BA (Hons.) Aspiring Students Admission Alerts FAQs Fee Refund Portal Global Pathways Program International Admissions Media Programs UPES Online Important Dates Other links Academic Calendar Campus Events NIRF Ranking Report Careers Faculty Scholarships HILL Contact Us Mandatory Disclosures Student Achievements Current Openings NAAC Student Corner Downloads Industry Connect National Academic Depository Sustainable Development Goal Kandoli Campus, Dehradun P.O. Kandoli Via Premnagar, Dehradun-248007 Bidholi Campus, Dehradun P.O. Bidholi Via Premnagar, Dehradun-248007 Corporate Office 216B I, Second Floor, Splendor Forum, Plot Bearing No. 3, Jasola District Centre, Jasola, New Delhi-110025 Contact Us Toll Free : 18001028737 Email : enrollments@upes.ac.in For International Queries : international.admissions@upes.ac.in Follow Us: Copyright © 2025 UPES. All Rights Reserved. Privacy Policy Terms & Condition Sitemap\\n\\nAdmissions B.Tech. MBA B.Des. M.Tech. LL.B. M.Des. B.Pharm. MA BBA M.Sc. BCA LL.M. B.Sc. MCA B.Com. PhD BA (Hons.) Aspiring Students Admission Alerts FAQs Fee Refund Portal Global Pathways Program International Admissions Media Programs UPES Online Important Dates Other links Academic Calendar Campus Events NIRF Ranking Report Careers Faculty Scholarships HILL Contact Us Mandatory Disclosures Student Achievements Current Openings NAAC Student Corner Downloads Industry Connect National Academic Depository Sustainable Development Goal Kandoli Campus, Dehradun P.O. Kandoli Via Premnagar, Dehradun-248007 Bidholi Campus, Dehradun P.O. Bidholi Via Premnagar, Dehradun-248007 Corporate Office 216B I, Second Floor, Splendor Forum, Plot Bearing No. 3, Jasola District Centre, Jasola, New Delhi-110025 Contact Us Toll Free : 18001028737 Email : enrollments@upes.ac.in For International Queries : international.admissions@upes.ac.in\\n\\nAdmissions B.Tech. MBA B.Des. M.Tech. LL.B. M.Des. B.Pharm. MA BBA M.Sc. BCA LL.M. B.Sc. MCA B.Com. PhD BA (Hons.) Aspiring Students Admission Alerts FAQs Fee Refund Portal Global Pathways Program International Admissions Media Programs UPES Online Important Dates Other links Academic Calendar Campus Events NIRF Ranking Report Careers Faculty Scholarships HILL Contact Us Mandatory Disclosures Student Achievements Current Openings NAAC Student Corner Downloads Industry Connect National Academic Depository Sustainable Development Goal Kandoli Campus, Dehradun P.O. Kandoli Via Premnagar, Dehradun-248007 Bidholi Campus, Dehradun P.O. Bidholi Via Premnagar, Dehradun-248007 Corporate Office 216B I, Second Floor, Splendor Forum, Plot Bearing No. 3, Jasola District Centre, Jasola, New Delhi-110025 Contact Us Toll Free : 18001028737 Email : enrollments@upes.ac.in For International Queries : international.admissions@upes.ac.in\\n\\nAdmissions\\n\\nB.Tech.\\n\\nMBA\\n\\nB.Des.\\n\\nM.Tech.\\n\\nLL.B.\\n\\nM.Des.\\n\\nB.Pharm.\\n\\nMA\\n\\nBBA\\n\\nM.Sc.\\n\\nBCA\\n\\nLL.M.\\n\\nB.Sc.\\n\\nMCA\\n\\nB.Com.\\n\\nPhD\\n\\nBA (Hons.)\\n\\nAspiring Students\\n\\nAdmission Alerts\\n\\nFAQs\\n\\nFee Refund Portal\\n\\nGlobal Pathways Program\\n\\nInternational Admissions\\n\\nMedia\\n\\nPrograms\\n\\nUPES Online\\n\\nImportant Dates\\n\\nOther links\\n\\nAcademic Calendar\\n\\nCampus\\n\\nEvents\\n\\nNIRF Ranking Report\\n\\nCareers\\n\\nFaculty\\n\\nScholarships\\n\\nHILL\\n\\nContact Us\\n\\nMandatory Disclosures\\n\\nStudent Achievements\\n\\nCurrent Openings\\n\\nNAAC\\n\\nStudent Corner\\n\\nDownloads\\n\\nIndustry Connect\\n\\nNational Academic Depository\\n\\nSustainable Development Goal\\n\\nAdmissions\\n\\nB.Tech.\\n\\nMBA\\n\\nB.Des.\\n\\nM.Tech.\\n\\nLL.B.\\n\\nM.Des.\\n\\nB.Pharm.\\n\\nMA\\n\\nBBA\\n\\nM.Sc.\\n\\nBCA\\n\\nLL.M.\\n\\nB.Sc.\\n\\nMCA\\n\\nB.Com.\\n\\nPhD\\n\\nBA (Hons.)\\n\\nB.Tech.\\n\\nMBA\\n\\nB.Des.\\n\\nM.Tech.\\n\\nLL.B.\\n\\nM.Des.\\n\\nB.Pharm.\\n\\nMA\\n\\nBBA\\n\\nM.Sc.\\n\\nBCA\\n\\nLL.M.\\n\\nB.Sc.\\n\\nMCA\\n\\nB.Com.\\n\\nPhD\\n\\nBA (Hons.)\\n\\nB.Tech.\\n\\nMBA\\n\\nB.Des.\\n\\nM.Tech.\\n\\nLL.B.\\n\\nM.Des.\\n\\nB.Pharm.\\n\\nMA\\n\\nBBA\\n\\nM.Sc.\\n\\nBCA\\n\\nLL.M.\\n\\nB.Sc.\\n\\nMCA\\n\\nB.Com.\\n\\nPhD\\n\\nBA (Hons.)\\n\\nAspiring Students\\n\\nAdmission Alerts\\n\\nFAQs\\n\\nFee Refund Portal\\n\\nGlobal Pathways Program\\n\\nInternational Admissions\\n\\nMedia\\n\\nPrograms\\n\\nUPES Online\\n\\nImportant Dates\\n\\nAdmission Alerts\\n\\nFAQs\\n\\nFee Refund Portal\\n\\nGlobal Pathways Program\\n\\nInternational Admissions\\n\\nMedia\\n\\nPrograms\\n\\nUPES Online\\n\\nImportant Dates\\n\\nAdmission Alerts\\n\\nFAQs\\n\\nFee Refund Portal\\n\\nGlobal Pathways Program\\n\\nInternational Admissions\\n\\nMedia\\n\\nPrograms\\n\\nUPES Online\\n\\nImportant Dates\\n\\nOther links\\n\\nAcademic Calendar\\n\\nCampus\\n\\nEvents\\n\\nNIRF Ranking Report\\n\\nCareers\\n\\nFaculty\\n\\nScholarships\\n\\nHILL\\n\\nContact Us\\n\\nMandatory Disclosures\\n\\nStudent Achievements\\n\\nCurrent Openings\\n\\nNAAC\\n\\nStudent Corner\\n\\nDownloads\\n\\nIndustry Connect\\n\\nNational Academic Depository\\n\\nSustainable Development Goal\\n\\nAcademic Calendar\\n\\nCampus\\n\\nEvents\\n\\nNIRF Ranking Report\\n\\nCareers\\n\\nFaculty\\n\\nScholarships\\n\\nHILL\\n\\nContact Us\\n\\nMandatory Disclosures\\n\\nStudent Achievements\\n\\nCurrent Openings\\n\\nNAAC\\n\\nStudent Corner\\n\\nDownloads\\n\\nIndustry Connect\\n\\nNational Academic Depository\\n\\nSustainable Development Goal\\n\\nAcademic Calendar\\n\\nCampus\\n\\nEvents\\n\\nNIRF Ranking Report\\n\\nCareers\\n\\nFaculty\\n\\nScholarships\\n\\nHILL\\n\\nContact Us\\n\\nMandatory Disclosures\\n\\nStudent Achievements\\n\\nCurrent Openings\\n\\nNAAC\\n\\nStudent Corner\\n\\nDownloads\\n\\nIndustry Connect\\n\\nNational Academic Depository\\n\\nSustainable Development Goal\\n\\nKandoli Campus, Dehradun P.O. Kandoli Via Premnagar, Dehradun-248007 Bidholi Campus, Dehradun P.O. Bidholi Via Premnagar, Dehradun-248007 Corporate Office 216B I, Second Floor, Splendor Forum, Plot Bearing No. 3, Jasola District Centre, Jasola, New Delhi-110025 Contact Us Toll Free : 18001028737 Email : enrollments@upes.ac.in For International Queries : international.admissions@upes.ac.in\\n\\nKandoli Campus, Dehradun\\n\\nP.O. Kandoli Via Premnagar,\\n\\nDehradun\\n\\n248007\\n\\nP.O. Kandoli Via Premnagar,\\n\\nDehradun\\n\\n248007\\n\\nP.O. Kandoli Via Premnagar,\\n\\nDehradun\\n\\n248007\\n\\nBidholi Campus, Dehradun\\n\\nP.O. Bidholi Via Premnagar,\\n\\nDehradun\\n\\n248007\\n\\nP.O. Bidholi Via Premnagar,\\n\\nDehradun\\n\\n248007\\n\\nP.O. Bidholi Via Premnagar,\\n\\nDehradun\\n\\n248007\\n\\nCorporate Office 216B I, Second Floor, Splendor Forum, Plot Bearing No. 3, Jasola District Centre, Jasola, New Delhi-110025\\n\\n216B I, Second Floor, Splendor Forum, Plot Bearing No. 3, Jasola District Centre, Jasola, New Delhi-110025\\n\\n216B I, Second Floor, Splendor Forum, Plot Bearing No. 3, Jasola District Centre, Jasola, New Delhi-110025\\n\\nContact Us\\n\\nToll Free :\\n\\n18001028737\\n\\nEmail :\\n\\nenrollments@upes.ac.in\\n\\nFor International Queries :\\n\\ninternational.admissions@upes.ac.in\\n\\nToll Free :\\n\\n18001028737\\n\\nEmail :\\n\\nenrollments@upes.ac.in\\n\\nFor International Queries :\\n\\ninternational.admissions@upes.ac.in\\n\\nToll Free :\\n\\n18001028737\\n\\nEmail :\\n\\nenrollments@upes.ac.in\\n\\nFor International Queries :\\n\\ninternational.admissions@upes.ac.in\\n\\nFollow Us: Copyright © 2025 UPES. All Rights Reserved. Privacy Policy Terms & Condition Sitemap\\n\\nFollow Us: Copyright © 2025 UPES. All Rights Reserved. Privacy Policy Terms & Condition Sitemap\\n\\nFollow Us:\\n\\nFollow Us:\\n\\nCopyright © 2025 UPES. All Rights Reserved.\\n\\nCopyright © 2025 UPES. All Rights Reserved.\\n\\nPrivacy Policy\\n\\nTerms & Condition\\n\\nSitemap\\n\\nPrivacy Policy\\n\\nTerms & Condition\\n\\nSitemap\\n\\nSpeak to a Counsellor\\n\\nFirst Name\\n\\nPlease enter first name\\n\\nLast Name\\n\\nPlease enter last name\\n\\nEmail Address\\n\\nPlease enter email address\\n\\nMobile Number\\n\\n+91\\n\\nPlease enter mobile number\\n\\nCourse Type\\n\\nNone-\\n\\nPlease Select Course Type\\n\\nSelect Course\\n\\nNone -\\n\\nPlease select Course\\n\\nCall Me\\n\\nSpeak to a Counsellor\\n\\nFirst Name\\n\\nPlease enter first name\\n\\nLast Name\\n\\nPlease enter last name\\n\\nEmail Address\\n\\nPlease enter email address\\n\\nMobile Number\\n\\n+91\\n\\nPlease enter mobile number\\n\\nCourse Type\\n\\nNone-\\n\\nPlease Select Course Type\\n\\nSelect Course\\n\\nNone -\\n\\nPlease select Course\\n\\nCall Me\\n\\nSpeak to a Counsellor\\n\\nFirst Name\\n\\nPlease enter first name\\n\\nLast Name\\n\\nPlease enter last name\\n\\nEmail Address\\n\\nPlease enter email address\\n\\nMobile Number\\n\\n+91\\n\\nPlease enter mobile number\\n\\nCourse Type\\n\\nNone-\\n\\nPlease Select Course Type\\n\\nSelect Course\\n\\nNone -\\n\\nPlease select Course\\n\\nCall Me\\n\\nSpeak to a Counsellor\\n\\nFirst Name Please enter first name\\n\\nLast Name Please enter last name\\n\\nEmail Address Please enter email address\\n\\nMobile Number +91 Please enter mobile number\\n\\nCourse Type\\n\\n--None\\n\\n-- Please Select Course Type\\n\\nSelect Course\\n\\n-- None\\n\\n-- Please select Course Call Me\\n\\nFirst Name Please enter first name\\n\\nLast Name Please enter last name\\n\\nEmail Address Please enter email address\\n\\nMobile Number +91 Please enter mobile number\\n\\nCourse Type\\n\\n--None\\n\\n-- Please Select Course Type\\n\\nSelect Course\\n\\n-- None\\n\\n-- Please select Course Call Me\\n\\nFirst Name Please enter first name\\n\\nLast Name Please enter last name\\n\\nEmail Address Please enter email address\\n\\nMobile Number +91 Please enter mobile number\\n\\nCourse Type\\n\\n--None\\n\\n-- Please Select Course Type\\n\\nSelect Course\\n\\n-- None\\n\\n-- Please select Course Call Me\\n\\nFirst Name Please enter first name\\n\\nLast Name Please enter last name\\n\\nEmail Address Please enter email address\\n\\nMobile Number +91 Please enter mobile number\\n\\nCourse Type\\n\\n--None\\n\\n-- Please Select Course Type\\n\\nSelect Course\\n\\n-- None\\n\\n-- Please select Course\\n\\nCall Me\\n\\nHelpline\\n\\n1800\\n\\n102\\n\\n8737\\n\\nHelpline\\n\\n1800\\n\\n102\\n\\n8737\\n\\nHelpline\\n\\n1800\\n\\n102\\n\\n8737\\n\\nHelpline\\n\\n1800\\n\\n102\\n\\n8737\\n\\n1800\\n\\n102\\n\\n8737\\n\\nChat with us\\n\\nChat on whatsapp\\n\\nChat with an expert\\n\\nChat with student\\n\\nbuddy\\n\\nChat with us\\n\\nChat on whatsapp\\n\\nChat with an expert\\n\\nChat with student\\n\\nbuddy\\n\\nChat with us\\n\\nChat on whatsapp\\n\\nChat with an expert\\n\\nChat with student\\n\\nbuddy\\n\\nChat with us\\n\\nChat on whatsapp\\n\\nChat with an expert\\n\\nChat with student\\n\\nbuddy\\n\\nChat on whatsapp\\n\\nChat with an expert\\n\\nChat with student\\n\\nbuddy\\n\\nOTP Verify\\n\\nEnter OTP\\n\\nResend OTP\\n\\nVerify\\n\\nOTP Verify\\n\\nEnter OTP\\n\\nResend OTP\\n\\nVerify\\n\\nOTP Verify\\n\\nEnter OTP\\n\\nResend OTP\\n\\nVerify\\n\\nOTP Verify\\n\\nEnter OTP\\n\\nResend OTP\\n\\nVerify\\n\\nEnter OTP\\n\\nResend OTP\\n\\nVerify\\n\\nEnter OTP\\n\\nResend OTP\\n\\nVerify\\n\\nResend OTP')"
            ]
          },
          "execution_count": 15,
          "metadata": {},
          "output_type": "execute_result"
        }
      ],
      "source": [
        "docs[0]"
      ]
    },
    {
      "cell_type": "code",
      "execution_count": null,
      "metadata": {
        "id": "s4l6qnIwhYWB"
      },
      "outputs": [
        {
          "name": "stdout",
          "output_type": "stream",
          "text": [
            "OPENAI API Key: sk-proj-FbPOhZAdADBoIIXg2QOoT3BlbkFJRCri2eOoo7XTVAhryqPY\n",
            "PINECONE API Key: pcsk_4CAmYn_LZrVSuAznizy8WLqb3mA2M16QiZBqEXZbdvXawnCgqC6ojperzyjmzSadmfe4mB\n"
          ]
        }
      ],
      "source": [
        "# Import required libraries\n",
        "import os\n",
        "from dotenv import load_dotenv\n",
        "\n",
        "# Load the environment variables from the .env file\n",
        "load_dotenv()  # This will automatically look for a .env file in the current directory\n",
        "\n",
        "# Now access the API keys from the environment\n",
        "os.environ['OPENAI_API_KEY'] = os.getenv('OPENAI_API_KEY')\n",
        "os.environ['PINECONE_API_KEY'] = os.getenv('PINECONE_API_KEY')\n",
        "\n",
        "# Check if the keys are set correctly (optional)\n",
        "print(f\"OPENAI API Key: {os.environ['OPENAI_API_KEY']}\")\n",
        "print(f\"PINECONE API Key: {os.environ['PINECONE_API_KEY']}\")\n"
      ]
    },
    {
      "cell_type": "code",
      "execution_count": 17,
      "metadata": {
        "id": "IzaXQ8XpkYjX"
      },
      "outputs": [],
      "source": [
        "embeddings = OpenAIEmbeddings(\n",
        "    model = \"text-embedding-3-small\"\n",
        ")\n",
        "index_name = \"upes\""
      ]
    },
    {
      "cell_type": "code",
      "execution_count": 18,
      "metadata": {
        "id": "5w9muBTPk4OE"
      },
      "outputs": [],
      "source": [
        "text_splitter = RecursiveCharacterTextSplitter()\n",
        "\n",
        "split_docs = text_splitter.split_documents(docs)"
      ]
    },
    {
      "cell_type": "code",
      "execution_count": 19,
      "metadata": {
        "colab": {
          "base_uri": "https://localhost:8080/"
        },
        "id": "HJK6qMJLlhsn",
        "outputId": "d4c8721e-339e-4594-cda2-e4d430aa86df"
      },
      "outputs": [
        {
          "data": {
            "text/plain": [
              "Document(metadata={'source': '/Users/konalsmac/upesbuddy/UPESBuddy_Chatbot/web_crawler/ParsedPages/www_upes_ac_in_faculty_school_of_law_ruby_yadav.txt'}, page_content='Students Alumni Parents Contact Us About Us Rankings Blog Applicant Login Academics Back Academics School of Advanced Engineering B.Sc. B.Tech. M.Sc. M.Tech. PhD School of Business B.Com. (Hons) BBA Integrated - B.Com. (Hons) - MBA Integrated - BBA - MBA MBA PhD School of Computer Science B.Sc. B.Tech. CSE BCA M.Tech. CSE MCA PhD School of Design B.Des. M.Des. PhD School of Health Sciences & Technology B.Pharm. B.Sc. B.Tech. M.Sc. PhD School of Law BA LL.B. BBA LL.B. LL.B. - 3 Yrs LL.M. PhD School of Liberal Studies & Media BA (H) B.Sc. (H) BA MA PhD School for Life UPES Online Admissions Student Outcomes Placements Campus Life Research Apply Now\\n\\nStudents\\n\\nAlumni\\n\\nParents\\n\\nContact Us\\n\\nAbout Us\\n\\nRankings\\n\\nBlog\\n\\nApplicant Login\\n\\nStudents\\n\\nAlumni\\n\\nParents\\n\\nContact Us\\n\\nAbout Us\\n\\nRankings\\n\\nBlog\\n\\nApplicant Login\\n\\nAcademics Back Academics School of Advanced Engineering B.Sc. B.Tech. M.Sc. M.Tech. PhD School of Business B.Com. (Hons) BBA Integrated - B.Com. (Hons) - MBA Integrated - BBA - MBA MBA PhD School of Computer Science B.Sc. B.Tech. CSE BCA M.Tech. CSE MCA PhD School of Design B.Des. M.Des. PhD School of Health Sciences & Technology B.Pharm. B.Sc. B.Tech. M.Sc. PhD School of Law BA LL.B. BBA LL.B. LL.B. - 3 Yrs LL.M. PhD School of Liberal Studies & Media BA (H) B.Sc. (H) BA MA PhD School for Life UPES Online Admissions Student Outcomes Placements Campus Life Research Apply Now\\n\\nAcademics Back Academics School of Advanced Engineering B.Sc. B.Tech. M.Sc. M.Tech. PhD School of Business B.Com. (Hons) BBA Integrated - B.Com. (Hons) - MBA Integrated - BBA - MBA MBA PhD School of Computer Science B.Sc. B.Tech. CSE BCA M.Tech. CSE MCA PhD School of Design B.Des. M.Des. PhD School of Health Sciences & Technology B.Pharm. B.Sc. B.Tech. M.Sc. PhD School of Law BA LL.B. BBA LL.B. LL.B. - 3 Yrs LL.M. PhD School of Liberal Studies & Media BA (H) B.Sc. (H) BA MA PhD School for Life UPES Online Admissions Student Outcomes Placements Campus Life Research Apply Now\\n\\nAcademics Back Academics School of Advanced Engineering B.Sc. B.Tech. M.Sc. M.Tech. PhD School of Business B.Com. (Hons) BBA Integrated - B.Com. (Hons) - MBA Integrated - BBA - MBA MBA PhD School of Computer Science B.Sc. B.Tech. CSE BCA M.Tech. CSE MCA PhD School of Design B.Des. M.Des. PhD School of Health Sciences & Technology B.Pharm. B.Sc. B.Tech. M.Sc. PhD School of Law BA LL.B. BBA LL.B. LL.B. - 3 Yrs LL.M. PhD School of Liberal Studies & Media BA (H) B.Sc. (H) BA MA PhD School for Life UPES Online\\n\\nBack Academics School of Advanced Engineering B.Sc. B.Tech. M.Sc. M.Tech. PhD School of Business B.Com. (Hons) BBA Integrated - B.Com. (Hons) - MBA Integrated - BBA - MBA MBA PhD School of Computer Science B.Sc. B.Tech. CSE BCA M.Tech. CSE MCA PhD School of Design B.Des. M.Des. PhD School of Health Sciences & Technology B.Pharm. B.Sc. B.Tech. M.Sc. PhD School of Law BA LL.B. BBA LL.B. LL.B. - 3 Yrs LL.M. PhD School of Liberal Studies & Media BA (H) B.Sc. (H) BA MA PhD School for Life UPES Online\\n\\nBack Academics School of Advanced Engineering B.Sc. B.Tech. M.Sc. M.Tech. PhD School of Business B.Com. (Hons) BBA Integrated - B.Com. (Hons) - MBA Integrated - BBA - MBA MBA PhD School of Computer Science B.Sc. B.Tech. CSE BCA M.Tech. CSE MCA PhD School of Design B.Des. M.Des. PhD School of Health Sciences & Technology B.Pharm. B.Sc. B.Tech. M.Sc. PhD School of Law BA LL.B. BBA LL.B. LL.B. - 3 Yrs LL.M. PhD School of Liberal Studies & Media BA (H) B.Sc. (H) BA MA PhD School for Life UPES Online\\n\\nBack Academics School of Advanced Engineering B.Sc. B.Tech. M.Sc. M.Tech. PhD School of Business B.Com. (Hons) BBA Integrated - B.Com. (Hons) - MBA Integrated - BBA - MBA MBA PhD School of Computer Science B.Sc. B.Tech. CSE BCA M.Tech. CSE MCA PhD School of Design B.Des. M.Des. PhD School of Health Sciences & Technology B.Pharm. B.Sc. B.Tech. M.Sc. PhD School of Law BA LL.B. BBA LL.B. LL.B. - 3 Yrs LL.M. PhD School of Liberal Studies & Media BA (H) B.Sc. (H) BA MA PhD School for Life UPES Online')"
            ]
          },
          "execution_count": 19,
          "metadata": {},
          "output_type": "execute_result"
        }
      ],
      "source": [
        "split_docs[0]"
      ]
    },
    {
      "cell_type": "code",
      "execution_count": 20,
      "metadata": {
        "id": "vC7jB0Vull64"
      },
      "outputs": [],
      "source": [
        "vectorstore = PineconeVectorStore.from_documents(\n",
        "    documents=split_docs,\n",
        "    embedding=embeddings,\n",
        "    index_name=index_name\n",
        ")"
      ]
    },
    {
      "cell_type": "code",
      "execution_count": null,
      "metadata": {
        "id": "J7h-jJPGmrvz"
      },
      "outputs": [],
      "source": []
    }
  ],
  "metadata": {
    "colab": {
      "provenance": []
    },
    "kernelspec": {
      "display_name": "Python 3",
      "name": "python3"
    },
    "language_info": {
      "codemirror_mode": {
        "name": "ipython",
        "version": 3
      },
      "file_extension": ".py",
      "mimetype": "text/x-python",
      "name": "python",
      "nbconvert_exporter": "python",
      "pygments_lexer": "ipython3",
      "version": "3.9.6"
    }
  },
  "nbformat": 4,
  "nbformat_minor": 0
}
